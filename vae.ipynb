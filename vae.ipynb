{
 "cells": [
  {
   "cell_type": "code",
   "execution_count": 1,
   "metadata": {
    "collapsed": false,
    "scrolled": true
   },
   "outputs": [
    {
     "name": "stdout",
     "output_type": "stream",
     "text": [
      "Extracting MNIST_data/train-images-idx3-ubyte.gz\n",
      "Extracting MNIST_data/train-labels-idx1-ubyte.gz\n",
      "Extracting MNIST_data/t10k-images-idx3-ubyte.gz\n",
      "Extracting MNIST_data/t10k-labels-idx1-ubyte.gz\n"
     ]
    }
   ],
   "source": [
    "from tensorflow.examples.tutorials.mnist import input_data\n",
    "mnist = input_data.read_data_sets('MNIST_data', one_hot=True)"
   ]
  },
  {
   "cell_type": "code",
   "execution_count": 17,
   "metadata": {
    "collapsed": false,
    "scrolled": false
   },
   "outputs": [
    {
     "name": "stdout",
     "output_type": "stream",
     "text": [
      "[ 0.  0.  0.  0.  0.  0.  1.  0.  0.  0.]\n"
     ]
    },
    {
     "data": {
      "image/png": "[encoded data removed]",
      "text/plain": [
       "<matplotlib.figure.Figure at 0x12cf5a898>"
      ]
     },
     "metadata": {},
     "output_type": "display_data"
    }
   ],
   "source": [
    "import matplotlib.pyplot as plt\n",
    "import numpy as np\n",
    "%matplotlib inline\n",
    "\n",
    "idx = 3\n",
    "pixels = np.reshape(mnist.train.images[idx],(28,28))\n",
    "plt.imshow(pixels, cmap='gray')\n",
    "\n",
    "print(mnist.train.labels[idx])"
   ]
  },
  {
   "cell_type": "code",
   "execution_count": 29,
   "metadata": {
    "collapsed": false
   },
   "outputs": [],
   "source": [
    "xs, ys = mnist.train.next_batch(5)"
   ]
  },
  {
   "cell_type": "code",
   "execution_count": 111,
   "metadata": {
    "collapsed": true
   },
   "outputs": [],
   "source": [
    "?tf.Variable"
   ]
  },
  {
   "cell_type": "code",
   "execution_count": 141,
   "metadata": {
    "collapsed": false
   },
   "outputs": [],
   "source": [
    "# model.py\n",
    "import tensorflow as tf\n",
    "\n",
    "class Model():\n",
    "    def __init__(self, n_input=784, n_output=10):\n",
    "        self.n_input = n_input\n",
    "        self.n_output = n_output\n",
    "        print('variational auto-encoder')\n",
    "        \n",
    "    def _build_encoder(self, input_x, layer_config=20):    \n",
    "        # variable setting\n",
    "        W_enc = tf.Variable(tf.random_normal([self.n_input, layer_config]), name='weight_enc')\n",
    "        b_enc = tf.Variable(tf.random_normal([layer_config]), name='bias_enc')\n",
    "    \n",
    "\n",
    "        # hidden layer, dim = batch_size X layer_config\n",
    "        hidden_layer = tf.matmul(input_x, W_enc) + b_enc \n",
    "        \n",
    "        \n",
    "        mean = hidden_layer[:, :self.n_output]\n",
    "        # The standard deviation must be positive. Parametrize with a softplus and\n",
    "        # add a small epsilon for numerical stability\n",
    "        stddev = 1e-6 + tf.nn.softplus(hidden_layer[:, self.n_output:])\n",
    "        return mean, stddev\n",
    "    \n",
    "    def _build_decoder(self, mean, stddev, layer_config=20):\n",
    "        \n",
    "        # reparameterization\n",
    "        eps = tf.random_normal(shape=[500, self.n_output], mean=0, stddev=1.0)\n",
    "#         mean = tf.expand_dims(mean, 1)\n",
    "#         stddev = tf.expand_dims(stddev, 1)\n",
    "        z = mean + tf.multiply(stddev, eps)\n",
    "        \n",
    "        # reconstruction\n",
    "        W_dec = tf.Variable(tf.random_normal([self.n_output, self.n_input]), name='weight_dec')\n",
    "        b_dec = tf.Variable(tf.random_normal([self.n_input]), name='bias_dec')\n",
    "    \n",
    "        output = tf.nn.sigmoid(tf.matmul(z, W_dec) + b_dec)\n",
    "        return output\n",
    "    \n",
    "    def loss(self, mean, stddev, input_x, output):\n",
    "        kl_div = 0.5 * tf.reduce_sum(tf.square(mean) + tf.square(stddev) - tf.log(1e-8 + tf.square(stddev)) - 1, 1)\n",
    "        \n",
    "        input_matrix = tf.tile(input_x, [500, 1])\n",
    "        recon_loss = tf.losses.mean_squared_error(input_matrix, output)\n",
    "\n",
    "        return recon_loss+kl_div\n",
    "    \n",
    "    def vae(self, input_x, layer_config=20):\n",
    "        mean, stddev = self._build_encoder(input_x, layer_config=layer_config)\n",
    "        output = self._build_decoder(mean=mean, stddev=stddev, layer_config=layer_config)\n",
    "        cost = self.loss(mean=mean, stddev=stddev, input_x=input_x, output=output)\n",
    "        return cost, output"
   ]
  },
  {
   "cell_type": "code",
   "execution_count": 142,
   "metadata": {
    "collapsed": false,
    "scrolled": true
   },
   "outputs": [
    {
     "name": "stdout",
     "output_type": "stream",
     "text": [
      "variational auto-encoder\n"
     ]
    }
   ],
   "source": [
    "model = Model(n_input=784, n_output=10)"
   ]
  },
  {
   "cell_type": "code",
   "execution_count": 144,
   "metadata": {
    "collapsed": false
   },
   "outputs": [
    {
     "name": "stdout",
     "output_type": "stream",
     "text": [
      "[ 793.22143555]\n",
      "[ 252.9221344]\n",
      "[ 116.22473145]\n",
      "[ 728.36547852]\n",
      "[ 422.59490967]\n",
      "[ 981.70623779]\n",
      "[ 300.06384277]\n",
      "[ 735.64874268]\n",
      "[ 199.81652832]\n",
      "[ 304.18099976]\n",
      "[ 833.05023193]\n",
      "[ 220.46443176]\n",
      "[ 221.77069092]\n",
      "[ 640.08203125]\n",
      "[ 608.39086914]\n",
      "[ 421.16760254]\n",
      "[ 246.52879333]\n",
      "[ 205.95246887]\n",
      "[ 127.86470795]\n",
      "[ 597.09545898]\n",
      "[ 228.17810059]\n",
      "[ 207.65666199]\n",
      "[ 353.17089844]\n",
      "[ 241.95985413]\n",
      "[ 76.56932068]\n",
      "[ 192.01828003]\n",
      "[ 184.66157532]\n",
      "[ 319.41827393]\n",
      "[ 236.05871582]\n",
      "[ 202.53993225]\n",
      "[ 148.14337158]\n",
      "[ 187.22245789]\n",
      "[ 304.21090698]\n",
      "[ 193.61317444]\n",
      "[ 321.28485107]\n",
      "[ 196.39134216]\n",
      "[ 341.12863159]\n",
      "[ 141.67871094]\n",
      "[ 271.84838867]\n",
      "[ 287.15536499]\n",
      "[ 513.269104]\n",
      "[ 155.19831848]\n",
      "[ 261.8012085]\n",
      "[ 282.79199219]\n",
      "[ 220.83836365]\n",
      "[ 258.04415894]\n",
      "[ 78.38423157]\n",
      "[ 204.65939331]\n",
      "[ 147.23995972]\n",
      "[ 330.83218384]\n",
      "[ 121.59132385]\n",
      "[ 261.11755371]\n",
      "[ 222.9957428]\n",
      "[ 216.49000549]\n",
      "[ 125.56491089]\n",
      "[ 301.6413269]\n",
      "[ 290.82144165]\n",
      "[ 224.91046143]\n",
      "[ 358.40710449]\n",
      "[ 301.84875488]\n",
      "[ 244.65896606]\n",
      "[ 169.57452393]\n",
      "[ 274.74099731]\n",
      "[ 280.36697388]\n",
      "[ 353.64535522]\n",
      "[ 174.29826355]\n",
      "[ 357.46258545]\n",
      "[ 325.04333496]\n",
      "[ 274.4894104]\n",
      "[ 515.28900146]\n",
      "[ 277.39984131]\n",
      "[ 146.63197327]\n",
      "[ 116.34774017]\n",
      "[ 256.3578186]\n",
      "[ 237.18022156]\n",
      "[ 185.69587708]\n",
      "[ 194.96963501]\n",
      "[ 118.89742279]\n",
      "[ 118.46161652]\n",
      "[ 85.88520813]\n",
      "[ 142.04244995]\n",
      "[ 116.05886841]\n",
      "[ 372.17858887]\n",
      "[ 108.96318817]\n",
      "[ 354.72286987]\n",
      "[ 104.78772736]\n",
      "[ 147.05343628]\n",
      "[ 269.03768921]\n",
      "[ 275.72247314]\n",
      "[ 283.98480225]\n",
      "[ 231.4691925]\n",
      "[ 291.54589844]\n",
      "[ 114.58638763]\n",
      "[ 235.58178711]\n",
      "[ 131.68193054]\n",
      "[ 137.80661011]\n",
      "[ 335.92852783]\n",
      "[ 144.88343811]\n",
      "[ 117.05025482]\n",
      "[ 156.23410034]\n"
     ]
    }
   ],
   "source": [
    "# run_vae\n",
    "\n",
    "X = tf.placeholder(tf.float32, shape=[1, 784])\n",
    "cost, output = model.vae(input_x=X, layer_config=20)\n",
    "optimizer = tf.train.GradientDescentOptimizer(learning_rate=0.01).minimize(cost)\n",
    "\n",
    "\n",
    "n_batch_samples = 1\n",
    "n_epochs = 100\n",
    "\n",
    "with tf.Session() as sess:\n",
    "    sess.run(tf.global_variables_initializer())\n",
    "    \n",
    "    for i in range(n_epochs):\n",
    "        xs, ys = mnist.train.next_batch(n_batch_samples)\n",
    "        c, op = sess.run([cost, optimizer], feed_dict={X:xs})\n",
    "        print(c)"
   ]
  },
  {
   "cell_type": "code",
   "execution_count": null,
   "metadata": {
    "collapsed": true
   },
   "outputs": [],
   "source": [
    "# batch인 경우 풀어서  w matmul, 그다음에 다시 reshape"
   ]
  }
 ],
 "metadata": {
  "kernelspec": {
   "display_name": "Python 3",
   "language": "python",
   "name": "python3"
  },
  "language_info": {
   "codemirror_mode": {
    "name": "ipython",
    "version": 3
   },
   "file_extension": ".py",
   "mimetype": "text/x-python",
   "name": "python",
   "nbconvert_exporter": "python",
   "pygments_lexer": "ipython3",
   "version": "3.6.0"
  }
 },
 "nbformat": 4,
 "nbformat_minor": 2
}
